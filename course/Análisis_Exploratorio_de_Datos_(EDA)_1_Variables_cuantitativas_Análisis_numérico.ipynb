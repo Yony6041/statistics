{
  "cells": [
    {
      "cell_type": "markdown",
      "metadata": {
        "id": "bmewNTv8xrny"
      },
      "source": [
        "# Análisis Exploratorio de Datos.\n",
        "Inferencia estadística\n",
        "\n",
        "Por: Carlos Alberto Arriaga Solorzano"
      ]
    },
    {
      "cell_type": "markdown",
      "metadata": {
        "id": "Iv81IVujx5TS"
      },
      "source": [
        "El análisis exploratorio de datos (EDA), es una técnica inicial de minería de datos, que permite resumir información, así como identificar las variables de mayor importancia, las relaciones sistemáticas entre las mismas, anomalías y patrones subyacentes en amplios conjuntos de datos.\n",
        "Funciona como un primer paso para la elección de modelos, y la formulación de hipótesis."
      ]
    },
    {
      "cell_type": "code",
      "execution_count": 13,
      "metadata": {
        "id": "cFeOZ9LstePQ"
      },
      "outputs": [],
      "source": [
        "import numpy as np\n",
        "import matplotlib.pyplot as plt\n",
        "from scipy.stats import skew, kurtosis"
      ]
    },
    {
      "cell_type": "markdown",
      "metadata": {
        "id": "2XZOEed2Uzi-"
      },
      "source": [
        "## Variables y sus tipos.\n",
        "\n",
        "\n"
      ]
    },
    {
      "cell_type": "markdown",
      "metadata": {
        "id": "3VFKTU41U88-"
      },
      "source": [
        "Recordemos que, una variable, es una característica que se desea estudiar, de los individuos de una muestra."
      ]
    },
    {
      "cell_type": "markdown",
      "metadata": {
        "id": "k6EjRQbAVpgX"
      },
      "source": [
        "Se clasifican en dos tipos:\n",
        "\n",
        "\n",
        "*   Cuantitativas: Se miden en escala numérica. (Edad, ingreso económico, altura, peso).\n",
        "*   Cualitativas: Se clasifican en categorías no numéricas. (Mes de nacimiento, género, tipo de sangre).\n",
        "\n"
      ]
    },
    {
      "cell_type": "markdown",
      "metadata": {
        "id": "7jKAlu88XU_U"
      },
      "source": [
        "### Análisis de variables cuantitativas."
      ]
    },
    {
      "cell_type": "markdown",
      "metadata": {
        "id": "OqVSGPNnXeuj"
      },
      "source": [
        "#### Frecuencias."
      ]
    },
    {
      "cell_type": "markdown",
      "metadata": {
        "id": "-vE7So5oXxk4"
      },
      "source": [
        "Supongamos que vamos a analizar una variable cuantitativa de una muestra de tamaño $n$.\n",
        "Es decir, contamos con $n$ observaciones de dicha variable. Digamos que los valores observados de la variable, son $\\lbrace x_1, x_2, ..., x_k\\rbrace$, donde $x_i$ fue observado $g_i$ veces. Al haber efectuado $n$ observaciones, debe ocurrir que $\\sum_{i=1}^k g_i=n$\n",
        "\n"
      ]
    },
    {
      "cell_type": "markdown",
      "metadata": {
        "id": "wpzLWOnMaMCN"
      },
      "source": [
        "Para cada $x\\in\\mathbb{R}$, sea $f_x$ el número de observaciones recolectadas, que son estrictamente menores que $x$."
      ]
    },
    {
      "cell_type": "markdown",
      "metadata": {
        "id": "8tdDzvMLYaRu"
      },
      "source": [
        "Podemos definir una función, que corresponda a la frecuencia relativa acumulada de la muestra observada: $F:\\mathbb{R}\\rightarrow [0,1]$, $F(x):=\\frac{f_x}{n}$\n"
      ]
    },
    {
      "cell_type": "code",
      "execution_count": 55,
      "metadata": {
        "colab": {
          "base_uri": "https://localhost:8080/"
        },
        "id": "6tXOWBuRCjd9",
        "outputId": "4e91259d-d646-427d-8786-3e600f5d7ec3"
      },
      "outputs": [],
      "source": [
        "# n = int(input(\"Tamaño de la muestra: \"))\n",
        "n = 18"
      ]
    },
    {
      "cell_type": "markdown",
      "metadata": {
        "id": "IH3EncxWmFe6"
      },
      "source": [
        "Creamos una muestra aleatoria de enteros."
      ]
    },
    {
      "cell_type": "code",
      "execution_count": 56,
      "metadata": {
        "colab": {
          "base_uri": "https://localhost:8080/"
        },
        "id": "Lc0gHWIZuNjl",
        "outputId": "0f35347c-d41e-4951-9477-17816f33f6be"
      },
      "outputs": [
        {
          "name": "stdout",
          "output_type": "stream",
          "text": [
            "[31 35 37 40 40 51 54 55 57 58 60 60 62 62 65 67 75 89]\n"
          ]
        }
      ],
      "source": [
        "randomlist = np.array([31, 35, 37, 40, 40, 51, 54, 55, 57, 58, 60, 60, 62, 62, 65, 67, 75, 89])\n",
        "print(randomlist)"
      ]
    },
    {
      "cell_type": "code",
      "execution_count": 57,
      "metadata": {
        "colab": {
          "base_uri": "https://localhost:8080/"
        },
        "id": "rkOTg7w4vf1F",
        "outputId": "767f6c6e-7328-461b-96ee-5f0f916420ac"
      },
      "outputs": [
        {
          "name": "stdout",
          "output_type": "stream",
          "text": [
            "[31, 35, 37, 40, 51, 54, 55, 57, 58, 60, 62, 65, 67, 75, 89]\n"
          ]
        }
      ],
      "source": [
        "values = sorted(set(randomlist))\n",
        "print(sorted(values))"
      ]
    },
    {
      "cell_type": "code",
      "execution_count": 58,
      "metadata": {
        "colab": {
          "base_uri": "https://localhost:8080/"
        },
        "id": "PK-yI7iHwvkA",
        "outputId": "62d07a2f-3219-4a86-bd45-520484cb4192"
      },
      "outputs": [
        {
          "name": "stdout",
          "output_type": "stream",
          "text": [
            "{'x_1': 31, 'x_2': 35, 'x_3': 37, 'x_4': 40, 'x_5': 51, 'x_6': 54, 'x_7': 55, 'x_8': 57, 'x_9': 58, 'x_10': 60, 'x_11': 62, 'x_12': 65, 'x_13': 67, 'x_14': 75, 'x_15': 89}\n"
          ]
        }
      ],
      "source": [
        "values_dict = {\"x_\"+str(i + 1):values[i] for i in range(0,len(values))}\n",
        "print(values_dict)"
      ]
    },
    {
      "cell_type": "code",
      "execution_count": 59,
      "metadata": {
        "colab": {
          "base_uri": "https://localhost:8080/"
        },
        "id": "B7yukG_xCyt0",
        "outputId": "bc5723bf-27b3-4c57-fdad-6000527d706f"
      },
      "outputs": [
        {
          "name": "stdout",
          "output_type": "stream",
          "text": [
            "{'g_1': 1, 'g_2': 1, 'g_3': 1, 'g_4': 2, 'g_5': 1, 'g_6': 1, 'g_7': 1, 'g_8': 1, 'g_9': 1, 'g_10': 2, 'g_11': 2, 'g_12': 1, 'g_13': 1, 'g_14': 1, 'g_15': 1}\n"
          ]
        }
      ],
      "source": [
        "frecuencies = {\"g_\"+str(i + 1):np.count_nonzero(randomlist == values[i]) for i in range(0,len(values))}\n",
        "print(frecuencies)"
      ]
    },
    {
      "cell_type": "code",
      "execution_count": 60,
      "metadata": {
        "colab": {
          "base_uri": "https://localhost:8080/"
        },
        "id": "Qimnh9gnFuSr",
        "outputId": "03e06a19-eeba-45d8-84cb-02ce23c2be74"
      },
      "outputs": [
        {
          "data": {
            "text/plain": [
              "18"
            ]
          },
          "execution_count": 60,
          "metadata": {},
          "output_type": "execute_result"
        }
      ],
      "source": [
        "sum(frecuencies.values())"
      ]
    },
    {
      "cell_type": "code",
      "execution_count": 61,
      "metadata": {
        "id": "qYXgRT65G7ll"
      },
      "outputs": [],
      "source": [
        "def f(x):\n",
        "  return len([u for u in randomlist if u<=x])"
      ]
    },
    {
      "cell_type": "code",
      "execution_count": 74,
      "metadata": {
        "colab": {
          "base_uri": "https://localhost:8080/"
        },
        "id": "_uXloa_OJKo5",
        "outputId": "2177d70d-d203-4284-8046-3620aee04cad"
      },
      "outputs": [
        {
          "name": "stdout",
          "output_type": "stream",
          "text": [
            "[31 35 37 40 40 51 54 55 57 58 60 60 62 62 65 67 75 89]\n",
            "[31, 35, 37, 40, 51, 54, 55, 57, 58, 60, 62, 65, 67, 75, 89]\n",
            "{'x_1': 31, 'x_2': 35, 'x_3': 37, 'x_4': 40, 'x_5': 51, 'x_6': 54, 'x_7': 55, 'x_8': 57, 'x_9': 58, 'x_10': 60, 'x_11': 62, 'x_12': 65, 'x_13': 67, 'x_14': 75, 'x_15': 89}\n",
            "{'g_1': 1, 'g_2': 1, 'g_3': 1, 'g_4': 2, 'g_5': 1, 'g_6': 1, 'g_7': 1, 'g_8': 1, 'g_9': 1, 'g_10': 2, 'g_11': 2, 'g_12': 1, 'g_13': 1, 'g_14': 1, 'g_15': 1}\n"
          ]
        },
        {
          "data": {
            "image/png": "[encoded data removed]",
            "text/plain": [
              "<Figure size 640x480 with 1 Axes>"
            ]
          },
          "metadata": {},
          "output_type": "display_data"
        }
      ],
      "source": [
        "randomlist = np.array([31, 35, 37, 40, 40, 51, 54, 55, 57, 58, 60, 60, 62, 62, 65, 67, 75, 89])\n",
        "print(randomlist)\n",
        "values = sorted(set(randomlist))\n",
        "print(sorted(values))\n",
        "values_dict = {\"x_\"+str(i + 1):values[i] for i in range(0,len(values))}\n",
        "print(values_dict)\n",
        "frecuencies = {\"g_\"+str(i + 1):np.count_nonzero(randomlist == values[i]) for i in range(0,len(values))}\n",
        "print(frecuencies)\n",
        "sum(frecuencies.values())\n",
        "def f(x):\n",
        "  return len([u for u in randomlist if u<=x])\n",
        "f(int(input()))\n",
        "\n",
        "def F(x):\n",
        "  return f(x)/n\n",
        "\n",
        "x = [0+0.01*n for n in range(0,2000)]\n",
        "plt.plot(x, [F(i) for i in x])\n",
        "plt.xlim(0,16)\n",
        "plt.ylim(0,1)\n",
        "plt.show()"
      ]
    },
    {
      "cell_type": "markdown",
      "metadata": {
        "id": "97AMMfW9n1xP"
      },
      "source": [
        "#### Medidas de tendencia central."
      ]
    },
    {
      "cell_type": "markdown",
      "metadata": {
        "id": "8y06fJWMP-qL"
      },
      "source": [
        "Las medidas de tendencia central, indican la localización de la muestra, encontrando valores significativos, que reflejan la \"centralidad\" de los datos desde diversos puntos de vista: Centro de masa, máximos globales, o el valor que divide la muestra a la mitad."
      ]
    },
    {
      "cell_type": "markdown",
      "metadata": {
        "id": "qldA_C6xc_Yw"
      },
      "source": [
        "\n",
        "##### Cuantiles."
      ]
    },
    {
      "cell_type": "markdown",
      "metadata": {
        "id": "9FGB1U3XdCmS"
      },
      "source": [
        "Supongamos que tenemos $n$ observaciones de una variable, ordenadas de menor a mayor, digamos $(x_1,x_2,...,x_n)$. Dado $p\\in (0,1)$, el $100p$-percentil es el valor $u_i$ de la muestra, tal que, al menos una porción del $100p$% de las observaciones son menores o iguales que ese valor."
      ]
    },
    {
      "cell_type": "markdown",
      "metadata": {
        "id": "crPvzwGq30Ph"
      },
      "source": [
        "Notemos que dicho valor $u_i$ coincide con el valor $inf(\\lbrace x\\in\\mathbb{R}|F(x)\\geq p \\rbrace)$, donde $F$ es la frecuencia relativa antes presentada."
      ]
    },
    {
      "cell_type": "markdown",
      "metadata": {
        "id": "KE8z2qmS4lXC"
      },
      "source": [
        "La forma de calcular los cuantiles, se realiza como sigue:\n",
        "\n",
        "\n",
        "*   Si $np$ no es entero, entonces el $100p$-percentil será $x_{⌈np⌉}$.\n",
        "*   Si $np$ es entero, entonces el $100p$-percentil será $\\frac{x_{⌈np⌉}+x_{⌈np⌉+1}}{2}$.\n"
      ]
    },
    {
      "cell_type": "code",
      "execution_count": null,
      "metadata": {
        "id": "j1CEeBDUNPNg"
      },
      "outputs": [],
      "source": [
        "def percentil(data, p):\n",
        "  return np.nanquantile(sorted(data), float(p))"
      ]
    },
    {
      "cell_type": "code",
      "execution_count": null,
      "metadata": {
        "colab": {
          "base_uri": "https://localhost:8080/"
        },
        "id": "ifPgkAoUh45J",
        "outputId": "61109c70-2ad6-4377-93bc-57a75d9f83db"
      },
      "outputs": [
        {
          "name": "stdout",
          "output_type": "stream",
          "text": [
            "8.0\n"
          ]
        }
      ],
      "source": [
        "print(percentil(randomlist, 0.5))"
      ]
    },
    {
      "cell_type": "markdown",
      "metadata": {
        "id": "JB7SCnHLmzPG"
      },
      "source": [
        "El primero, segundo y tercer cuartil, son $Q_1$, $Q_2$,$Q_3$, el $25$, $50$ y $75$-percentiles, respectivamente."
      ]
    },
    {
      "cell_type": "markdown",
      "metadata": {
        "id": "AKZNvns-eLif"
      },
      "source": [
        "Se llama Rango intercuartil $(IQR)$ al número $Q_3-Q_1$."
      ]
    },
    {
      "cell_type": "code",
      "execution_count": null,
      "metadata": {
        "id": "ibQ8vW3PlK33"
      },
      "outputs": [],
      "source": [
        "def Q_1(data):\n",
        "  return percentil(data, 0.25)\n",
        "\n",
        "def Q_2(data):\n",
        "  return percentil(data, 0.5)\n",
        "\n",
        "de\n",
        "def IQR(data):\n",
        "  return Q_3(data)-Q_1(data)"
      ]
    },
    {
      "cell_type": "code",
      "execution_count": null,
      "metadata": {
        "colab": {
          "base_uri": "https://localhost:8080/"
        },
        "id": "A1t4YhRtkC3F",
        "outputId": "3746d97a-94b4-4be0-b8de-113ccd213d74"
      },
      "outputs": [
        {
          "data": {
            "text/plain": [
              "6.0"
            ]
          },
          "execution_count": 41,
          "metadata": {},
          "output_type": "execute_result"
        }
      ],
      "source": [
        "IQR(randomlist)"
      ]
    },
    {
      "cell_type": "markdown",
      "metadata": {
        "id": "vFVwhEGzmmRo"
      },
      "source": [
        "Dado que el primer cuarto de muestras están antes de $Q_1$, y el último cuarto de muestras se encuentran después de $Q_3$, se sigue que la mitad de las muestras caen dentro de $[Q_1,Q_3]$. En este sentido, $[Q_1,Q_3]$ es el intervalo \"central\" de la muestra, y el $IQR$ es un indicador de la dispersión de la muestra, ya que refleja qué tan esparcida está la porción central de la muestra."
      ]
    },
    {
      "cell_type": "markdown",
      "metadata": {
        "id": "TG2uugmVoug9"
      },
      "source": [
        "##### Valores atípicos. (Outliers)."
      ]
    },
    {
      "cell_type": "markdown",
      "metadata": {
        "id": "mGwoYEsdoz3o"
      },
      "source": [
        "Los valores atípicos, son los elementos de $(x_1,x_2,...,x_n)$ que no pertenecen al intervalo $[Q_1-\\frac{3}{2}IQR,$ $Q_3+\\frac{3}{2}IQR]$. Éstos valores, se encuentran distantes del área de mayor concentración de la muestra, y pueden desviar las interpretaciones."
      ]
    },
    {
      "cell_type": "code",
      "execution_count": null,
      "metadata": {
        "id": "A3WufRwjkQn4"
      },
      "outputs": [],
      "source": [
        "def outliers(data):\n",
        "  return [x for x in sorted(data) if x<Q_1(data)-3*IQR(data)/2 or x>Q_3(data)+3*IQR(data)/2]"
      ]
    },
    {
      "cell_type": "code",
      "execution_count": null,
      "metadata": {
        "colab": {
          "base_uri": "https://localhost:8080/"
        },
        "id": "Pw2ny6WULTVT",
        "outputId": "b5d0369c-7b33-422a-a3ad-b6ffd260b5bd"
      },
      "outputs": [
        {
          "data": {
            "text/plain": [
              "[]"
            ]
          },
          "execution_count": 46,
          "metadata": {},
          "output_type": "execute_result"
        }
      ],
      "source": [
        "outliers(randomlist)"
      ]
    },
    {
      "cell_type": "markdown",
      "metadata": {
        "id": "W-RDJqhhl56p"
      },
      "source": [
        "Si randomlist no tiene valores atípicos, creamos una nueva muestra aleatoria de una distribución normal estándar:"
      ]
    },
    {
      "cell_type": "code",
      "execution_count": null,
      "metadata": {
        "colab": {
          "base_uri": "https://localhost:8080/"
        },
        "id": "j8puOTC2km0Q",
        "outputId": "9e7ebdd3-b5f0-40ab-ad92-ec60b1d81d3c"
      },
      "outputs": [
        {
          "name": "stdout",
          "output_type": "stream",
          "text": [
            "Tamaño de la muestra: 100\n",
            "[-0.93642384  1.30881367  1.23778768]\n"
          ]
        }
      ],
      "source": [
        "m = input(\"Tamaño de la muestra: \")\n",
        "data_0 = np.random.normal(0,1,int(m))\n",
        "data_1 = np.append(data_0,10**10)\n",
        "print(data_1[0:3])"
      ]
    },
    {
      "cell_type": "code",
      "execution_count": null,
      "metadata": {
        "colab": {
          "base_uri": "https://localhost:8080/"
        },
        "id": "rMZXFyrrljwv",
        "outputId": "f9c4a7fa-c5cc-4dc2-e9c0-543db870615f"
      },
      "outputs": [
        {
          "data": {
            "text/plain": [
              "[2.714441707131579, 10000000000.0]"
            ]
          },
          "execution_count": 50,
          "metadata": {},
          "output_type": "execute_result"
        }
      ],
      "source": [
        "outliers(data_1)"
      ]
    },
    {
      "cell_type": "markdown",
      "metadata": {
        "id": "f7ITjgH8M_sz"
      },
      "source": [
        "##### Media muestral."
      ]
    },
    {
      "cell_type": "markdown",
      "metadata": {
        "id": "bteFfc3zNVRQ"
      },
      "source": [
        "La media muestral, es el número $\\overline{x}:=\\frac{1}{n}\\sum_{i=1}^n x_i$."
      ]
    },
    {
      "cell_type": "markdown",
      "metadata": {
        "id": "a0IpdHjBOz0f"
      },
      "source": [
        "La media muestral, representa el lugar en que se encuentra el centro de masa de la muestra (punto en que se equilibraría el segmento $x_n-x_1$, si los puntos $x_1,...,x_n$ tuvieran pesos iguales). También, $\\overline{x}=min\\lbrace \\sum_{i=1}^n (a-x_i)^2| a\\in\\mathbb{R}\\rbrace$."
      ]
    },
    {
      "cell_type": "markdown",
      "metadata": {
        "id": "g3JoCCT-dGhf"
      },
      "source": [
        "Una desventaja de la media muestral, es que es sensible ante valores atípicos, es decir, la presencia de éstos puede modificar significativamente el valor de la media."
      ]
    },
    {
      "cell_type": "code",
      "execution_count": null,
      "metadata": {
        "colab": {
          "base_uri": "https://localhost:8080/"
        },
        "id": "CH73T7qJmSIS",
        "outputId": "c9298999-16b5-428f-e0ca-29a7982be3f5"
      },
      "outputs": [
        {
          "data": {
            "text/plain": [
              "99009900.96220143"
            ]
          },
          "execution_count": 51,
          "metadata": {},
          "output_type": "execute_result"
        }
      ],
      "source": [
        "np.mean(data_1)"
      ]
    },
    {
      "cell_type": "markdown",
      "metadata": {
        "id": "86da1JuymtGR"
      },
      "source": [
        "Si omitimos los valores atípicos:"
      ]
    },
    {
      "cell_type": "code",
      "execution_count": null,
      "metadata": {
        "id": "USkabS-cmw95"
      },
      "outputs": [],
      "source": [
        "def no_outliers(data):\n",
        "  return [x for x in data if x not in outliers(data)]"
      ]
    },
    {
      "cell_type": "code",
      "execution_count": null,
      "metadata": {
        "colab": {
          "base_uri": "https://localhost:8080/",
          "height": 205
        },
        "id": "tAjQZsMZncBr",
        "outputId": "002dbe37-85c7-4d48-bb9f-9d0bf8de3f0c"
      },
      "outputs": [
        {
          "ename": "NameError",
          "evalue": "ignored",
          "output_type": "error",
          "traceback": [
            "\u001b[0;31m---------------------------------------------------------------------------\u001b[0m",
            "\u001b[0;31mNameError\u001b[0m                                 Traceback (most recent call last)",
            "\u001b[0;32m<ipython-input-44-52aaa7ef48d1>\u001b[0m in \u001b[0;36m<module>\u001b[0;34m\u001b[0m\n\u001b[0;32m----> 1\u001b[0;31m \u001b[0mdata_1_modif\u001b[0m \u001b[0;34m=\u001b[0m \u001b[0mno_outliers\u001b[0m\u001b[0;34m(\u001b[0m\u001b[0mdata_1\u001b[0m\u001b[0;34m)\u001b[0m\u001b[0;34m\u001b[0m\u001b[0;34m\u001b[0m\u001b[0m\n\u001b[0m\u001b[1;32m      2\u001b[0m \u001b[0mnp\u001b[0m\u001b[0;34m.\u001b[0m\u001b[0mmean\u001b[0m\u001b[0;34m(\u001b[0m\u001b[0mdata_1_modif\u001b[0m\u001b[0;34m)\u001b[0m\u001b[0;34m\u001b[0m\u001b[0;34m\u001b[0m\u001b[0m\n",
            "\u001b[0;31mNameError\u001b[0m: name 'data_1' is not defined"
          ]
        }
      ],
      "source": [
        "data_1_modif = no_outliers(data_1)\n",
        "np.mean(data_1_modif)"
      ]
    },
    {
      "cell_type": "markdown",
      "metadata": {
        "id": "ALVvqcGSpUfs"
      },
      "source": [
        "##### Mediana muestral."
      ]
    },
    {
      "cell_type": "markdown",
      "metadata": {
        "id": "Dtv74Je1phlN"
      },
      "source": [
        "La mediana muestral, es el $50$-percentil de la muestra, es decir, el valor que divide la muestra a la mitad."
      ]
    },
    {
      "cell_type": "markdown",
      "metadata": {
        "id": "IXlb2qv2qJYx"
      },
      "source": [
        "La mediana atiende únicamente al orden de los datos, perdiendo de vista el valor de los números, pero tiene la ventaja de que es menos sensible a la presencia de valores atípicos."
      ]
    },
    {
      "cell_type": "code",
      "execution_count": null,
      "metadata": {
        "id": "Tb7BpmDNqjuu"
      },
      "outputs": [],
      "source": [
        "np.median(data_1)"
      ]
    },
    {
      "cell_type": "code",
      "execution_count": null,
      "metadata": {
        "id": "x_iwF6I9qzLF"
      },
      "outputs": [],
      "source": [
        "np.median(data_1_modif)"
      ]
    },
    {
      "cell_type": "markdown",
      "metadata": {
        "id": "Dlydg46KrZLN"
      },
      "source": [
        "#### Medidas de dispersión."
      ]
    },
    {
      "cell_type": "markdown",
      "metadata": {
        "id": "pCXsieKurcKM"
      },
      "source": [
        "##### Varianza muestral."
      ]
    },
    {
      "cell_type": "markdown",
      "metadata": {
        "id": "534hDJVAr8yk"
      },
      "source": [
        "La varianza muestra, se define como el número $\\hat{\\sigma}^2:=\\frac{1}{n-1}\\sum_{i=i}^n (x_i-x)^2$."
      ]
    },
    {
      "cell_type": "markdown",
      "metadata": {
        "id": "Mbb3FqaZs19r"
      },
      "source": [
        "Recordemos que $\\overline{x}$ minimizaba la suma de las desviaciones al cuadrado de un valor típico de la muestra $\\sum_{i=1}^n (a-x_i)^2$. (Se toman cuadrados, porque el mínimo de la suma de las desviaciones es siempre cero). Así, dicho mínimo, que coincide con $\\hat{\\sigma}^2$, expresa qué tan concentradas o dispersas se encuentran las observaciones respecto a la media muestral."
      ]
    },
    {
      "cell_type": "markdown",
      "metadata": {
        "id": "jJmU4-KauBRA"
      },
      "source": [
        "Como en el caso de la media muestral, la varianza puede ser significativamente afectada por la presencia de valores atípicos, creando la impresión de una falsa dispersión."
      ]
    },
    {
      "cell_type": "code",
      "execution_count": null,
      "metadata": {
        "id": "FcU-xpaVuhMP"
      },
      "outputs": [],
      "source": [
        "np.var(data_1)"
      ]
    },
    {
      "cell_type": "code",
      "execution_count": null,
      "metadata": {
        "id": "A-dV4n8uuoYM"
      },
      "outputs": [],
      "source": [
        "np.var(data_1_modif)"
      ]
    },
    {
      "cell_type": "markdown",
      "metadata": {
        "id": "rQB1lJaguugZ"
      },
      "source": [
        "##### Desviación estándar muestral. (STD)."
      ]
    },
    {
      "cell_type": "markdown",
      "metadata": {
        "id": "3p3H6470vEXn"
      },
      "source": [
        "La desviación estándar muestral, se define como $\\hat{\\sigma}=\\sqrt{\\hat{\\sigma}^2}$, es decir, la raíz cuadrada de la varianza."
      ]
    },
    {
      "cell_type": "markdown",
      "metadata": {
        "id": "XdpTV2avv8BA"
      },
      "source": [
        "La desviación estándar, se emplea como una solución a una malinterpretación de la varianza, debida a que los cuadrados pueden inflar desproporcionadamente la contribución de un valor atípico a la suma, de forma que mide la dispersión de los datos respecto a la media en las mismas unidades que los datos."
      ]
    },
    {
      "cell_type": "code",
      "execution_count": null,
      "metadata": {
        "id": "BjLYyeEsvnti"
      },
      "outputs": [],
      "source": [
        "np.std(data_1)"
      ]
    },
    {
      "cell_type": "code",
      "execution_count": null,
      "metadata": {
        "id": "pAwb_14Zw98R"
      },
      "outputs": [],
      "source": [
        "np.std(data_1_modif)"
      ]
    },
    {
      "cell_type": "markdown",
      "metadata": {
        "id": "K_1kCFQxx5kt"
      },
      "source": [
        "##### Rango muestral."
      ]
    },
    {
      "cell_type": "markdown",
      "metadata": {
        "id": "Vb-xqPqVx_6A"
      },
      "source": [
        "El rango muestral, se define como $Rango :=max\\lbrace x_1,...x_n\\rbrace-min\\lbrace x_1,...,x_n\\rbrace$."
      ]
    },
    {
      "cell_type": "markdown",
      "metadata": {
        "id": "MPvakSubyUZI"
      },
      "source": [
        "El rango muestral es la longitud del intervalo más pequeño que contiene a toda la muestra, y permite obtener una idea de la dispersión de los datos. Sin embargo, es igualmente sensible a valores atípicos."
      ]
    },
    {
      "cell_type": "code",
      "execution_count": null,
      "metadata": {
        "id": "iq6oL9Ibyhjg"
      },
      "outputs": [],
      "source": [
        "rango_1 = np.amax(data_1)-np.amin(data_1)\n",
        "rango_2 = np.amax(data_1_modif)-np.amin(data_1_modif)\n",
        "print(rango_1)\n",
        "print(rango_2)"
      ]
    },
    {
      "cell_type": "markdown",
      "metadata": {
        "id": "M8JD76vK5n8F"
      },
      "source": [
        "*Nota: Los cuartiles, así como el $IQR$, pueden utilizarse también como medidas de dispersión, y son menos sensibles a valores atípicos, al igual que la mediana; no obstante, pierden de vista el valor numérico de las observaciones.*"
      ]
    },
    {
      "cell_type": "markdown",
      "metadata": {
        "id": "NTY30JN-zQ6Q"
      },
      "source": [
        "#### Medidas de simetría."
      ]
    },
    {
      "cell_type": "markdown",
      "metadata": {
        "id": "U18XMNRNzYqh"
      },
      "source": [
        "##### Sesgo muestral."
      ]
    },
    {
      "cell_type": "markdown",
      "metadata": {
        "id": "jZhwDjgezvVZ"
      },
      "source": [
        "El sesgo muestral, se define como $SK:=\\frac{\\frac{1}{n}\\sum_{i=1}^n(x_i-\\overline{x})^3}{(\\frac{1}{n}\\sum_{i=1}^n(x_i-\\overline{x}))^{3/2}}$"
      ]
    },
    {
      "cell_type": "markdown",
      "metadata": {
        "id": "Z-b30xT60jxm"
      },
      "source": [
        "Si el sesgo es negativo, tendremos una distribución sesgada a la izquierda, es decir que la cola será más larga de ese lado, y la muestra estará cargada a la derecha."
      ]
    },
    {
      "cell_type": "markdown",
      "metadata": {
        "id": "V5ezUrxc1E7O"
      },
      "source": [
        "Si el sesgo es cero, tendremos una distribución no sesgada, y por lo tanto, simétrica."
      ]
    },
    {
      "cell_type": "markdown",
      "metadata": {
        "id": "kRhaq7se1CL2"
      },
      "source": [
        "Si el sesgo es positivo, tendremos una distribución sesgada a la derech, es decir que la cola será más larga de ese lado, y la muestra estará cargada a la izquierda."
      ]
    },
    {
      "cell_type": "markdown",
      "metadata": {
        "id": "O7UK6qWx2D8O"
      },
      "source": [
        "Una desventaja de esta medida, es, como en anteriores veces, la alta sensibilidad a valores atípicos."
      ]
    },
    {
      "cell_type": "code",
      "execution_count": null,
      "metadata": {
        "id": "Xy3ZqBMM12SX"
      },
      "outputs": [],
      "source": [
        "skew(data_1)"
      ]
    },
    {
      "cell_type": "code",
      "execution_count": null,
      "metadata": {
        "id": "GuyJ4KqO1_k5"
      },
      "outputs": [],
      "source": [
        "skew(data_1_modif)"
      ]
    },
    {
      "cell_type": "markdown",
      "metadata": {
        "id": "BF__Y1Zp2fFy"
      },
      "source": [
        "##### Curtosis."
      ]
    },
    {
      "cell_type": "code",
      "execution_count": null,
      "metadata": {},
      "outputs": [],
      "source": []
    },
    {
      "cell_type": "markdown",
      "metadata": {
        "id": "IP8eGjr-2g6x"
      },
      "source": [
        "La curtosis (del griego kurtos: \"curvado, arqueado\"), se define como $K := \\frac{\\frac{1}{n}\\sum_{i=1}^n(x_i-\\overline{x})^4}{(\\frac{1}{n}\\sum_{i=1}^n(x_i-\\overline{x})^2)^2}-3$."
      ]
    },
    {
      "cell_type": "markdown",
      "metadata": {
        "id": "VkD02ZMu3LeS"
      },
      "source": [
        "El número 3, aparece debido a que se mide con respecto a la distribución normal, la cual tiene una curtosis igual a 3. La curtosis mide lo \"picuda\" que es la distribución, así como el peso de sus colas."
      ]
    },
    {
      "cell_type": "markdown",
      "metadata": {
        "id": "EkPS1whr3pUs"
      },
      "source": [
        "Si la curtosis es negativa (distribución platicúrtica), entonces la distribución será aplanada, sin picos pronunciados, y con colas más ligeras."
      ]
    },
    {
      "cell_type": "markdown",
      "metadata": {
        "id": "d4Wis30j38oP"
      },
      "source": [
        "Si la curtosis es cero (distribución mesocúrtica), entonces la distribución tendrá la curvatura de una distribución normal."
      ]
    },
    {
      "cell_type": "markdown",
      "metadata": {
        "id": "P2KBHRVg4Hde"
      },
      "source": [
        "Si la curtosis es positiva (distribución leptocúrtica), entonces la distribución tendrá picos pronunciados, y colas pesadas."
      ]
    },
    {
      "cell_type": "markdown",
      "metadata": {
        "id": "YHjzu-7r4yoA"
      },
      "source": [
        "La curtosis también presenta sensibilidad a los valores atípicos."
      ]
    },
    {
      "cell_type": "code",
      "execution_count": null,
      "metadata": {
        "id": "qHnOuUpE4c8a"
      },
      "outputs": [],
      "source": [
        "kurtosis(data_1)"
      ]
    },
    {
      "cell_type": "code",
      "execution_count": null,
      "metadata": {
        "id": "j6H-bDiN4vJA"
      },
      "outputs": [],
      "source": [
        "kurtosis(data_1_modif)"
      ]
    },
    {
      "cell_type": "code",
      "execution_count": null,
      "metadata": {
        "id": "m9Iwb23BmmYW"
      },
      "outputs": [],
      "source": []
    }
  ],
  "metadata": {
    "colab": {
      "collapsed_sections": [
        "OqVSGPNnXeuj",
        "97AMMfW9n1xP",
        "Dlydg46KrZLN",
        "NTY30JN-zQ6Q"
      ],
      "provenance": []
    },
    "kernelspec": {
      "display_name": "Python 3",
      "name": "python3"
    },
    "language_info": {
      "codemirror_mode": {
        "name": "ipython",
        "version": 3
      },
      "file_extension": ".py",
      "mimetype": "text/x-python",
      "name": "python",
      "nbconvert_exporter": "python",
      "pygments_lexer": "ipython3",
      "version": "3.10.12"
    }
  },
  "nbformat": 4,
  "nbformat_minor": 0
}
