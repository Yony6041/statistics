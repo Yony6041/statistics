{
 "cells": [
  {
   "cell_type": "markdown",
   "metadata": {},
   "source": [
    "$\\documentclass[11pt]{article}\n",
    "\n",
    "\\usepackage{amsmath,amssymb,amsfonts}\n",
    "\\usepackage{graphicx}\n",
    "\\usepackage{tikz}\n",
    "\\usepackage{multirow}\n",
    "\\graphicspath{{public/}}\n",
    "\n",
    "\\setlength{\\topmargin}{-.5in} \\setlength{\\textheight}{9.25in}\n",
    "\\setlength{\\oddsidemargin}{0in} \\setlength{\\textwidth}{6.8in}\n",
    "\n",
    "\n",
    "\\begin{document}\n",
    "\\input{cover.tex}\n",
    "\\Large\n",
    "\n",
    "\\noindent{\\bf Estadística 1 \\hfill Tarea 1}\n",
    "\n",
    "\\medskip\\hrule\n",
    "\\vspace{1cm}\n",
    "\n",
    "\\begin{enumerate}\n",
    "    \\item Resume la informacion de los siguientes datos como te parezca mas conveniente.\n",
    "    \\item Las calificaciones de un grupo de 18 estudiantes en una escala de 100 puntos: 31, 35, 37, 40, 40, 51, 54, 55,\n",
    "57, 58, 60, 60, 62, 62 65, 67, 75, 89.\n",
    "\\item Los dias laborables que han perdido 20 trabajadores: 0, 0, 0, 0, 0, 0, 0, 1, 1, 1, 1, 2, 3, 3, 4, 4, 5, 5, 8, 45\n",
    "\n",
    "\\item La estatura de 20 mujeres en metros que se estudia con relacion a una condicion medica: 1.52, 1.60, 1.57, 1.52, 1.60, 1.75, 1.73, 1.63, 1.55, 1.63, 1.65, 1.55, 1.65, 1.60, 1.68 , 2.50, 1.52, 1.65, 1.60, 1.65\n",
    "\n",
    "\\item Los datos contenidos en la base mtcars en R \n",
    "\\begin{center}\n",
    "    Base\\_descriptivo.csv\n",
    "\\end{center}\n",
    "y para la variables post carga 2 hrs y colesterol total, ¿considera usted que su comportamiento es similar\n",
    "en toda la muestra?\n",
    "\n",
    "\\item Suponga que $X_{1}$, . . . , $X_{n}$ son variables aleatorias iid distribuidas Binomial(3,p). Obtenga la distribucion para Y =\n",
    "$\\sum_{i=1}^{n} X_{i}$ Considere Z = Y /(3n), ¿ Cuales son los posibles valores que toma Z, ¿ Como se distribuye Z? Note: que Z es una variable aleatoria discreta.\n",
    "\n",
    "\\item Considere dos variables aleatorias independientes \\textit{u} $\\sim$ \\textit{X}$_{p}^{2}$ y \\textit{u} $\\sim$ \\textit{X}$_{q}^{2}$, muestre que \\textit{f} = $\\frac{u/p}{v/q}$ se distribuye $F_{p,q}$\n",
    "\n",
    "\\end{enumerate}\n",
    "\n",
    "\\end{document}\n",
    "$"
   ]
  }
 ],
 "metadata": {
  "language_info": {
   "name": "python"
  },
  "orig_nbformat": 4
 },
 "nbformat": 4,
 "nbformat_minor": 2
}
